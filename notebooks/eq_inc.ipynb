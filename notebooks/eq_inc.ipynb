{
 "cells": [
  {
   "cell_type": "markdown",
   "metadata": {},
   "source": [
    "### Process single scan\n"
   ]
  },
  {
   "cell_type": "code",
   "execution_count": 1,
   "metadata": {},
   "outputs": [],
   "source": [
    "# add parent directory to path\n",
    "import os\n",
    "import sys\n",
    "module_path = os.path.abspath(os.path.join('..'))\n",
    "if module_path not in sys.path:\n",
    "    sys.path.append(module_path)\n",
    "\n",
    "    \n",
    "%matplotlib inline\n",
    "\n",
    "import matplotlib.pyplot as plt\n",
    "    \n",
    "from src.incompatibility_FEA import *"
   ]
  },
  {
   "cell_type": "markdown",
   "metadata": {},
   "source": [
    "### Define input files & set up the simulation"
   ]
  },
  {
   "cell_type": "code",
   "execution_count": 2,
   "metadata": {},
   "outputs": [
    {
     "name": "stdout",
     "output_type": "stream",
     "text": [
      "[-0.5 -0.5 -0.5]\n",
      "[0.5 0.5 0.5]\n"
     ]
    }
   ],
   "source": [
    "#%% x_0 is the values of the stiffness tensor #MPa\n",
    "# Crystal_Structure = 'HCP' order of stiffness values Stiffness: np.array((c11, c33, c44, c12, c13))\n",
    "# Crystal_Structure = 'Cubic' order of stiffness values Stiffness: np.array((c11, c12, c44))\n",
    "\n",
    "Crystal_Structure = 'HCP'\n",
    "#Stiffness =  np.array(( 174800.0, 108900.0, 106700.0 ))\n",
    "Stiffness = np.array((162400.0, 180700.0, 46700.0, 92000.0, 69000.0))\n",
    "x_0 = {\"Crystal_Structure\": Crystal_Structure, \"Stiffness\": Stiffness}\n",
    "\n",
    "mesh_dir   = '../mesh/'\n",
    "\n",
    "mesh_name  = 'creep_0020'\n",
    "data_dir   = '../data/'\n",
    "output_dir = '../results/'\n",
    "\n",
    "# Pick single step\n",
    "step = '0020'\n",
    "\n",
    "mesh_file      = mesh_dir + mesh_name\n",
    "rotations_file = data_dir + 'rotations_0020.dat'\n",
    "strains_file   = data_dir + 'strains_0020.dat'\n",
    "\n",
    "eg = elasGrains(mesh_file,rotations_file,strains_file)"
   ]
  },
  {
   "cell_type": "markdown",
   "metadata": {},
   "source": [
    "### Prescribe the boundary conditions for the equilibrium problem"
   ]
  },
  {
   "cell_type": "code",
   "execution_count": 3,
   "metadata": {},
   "outputs": [],
   "source": [
    "#%%\n",
    "# Minimal \"pointwise\" boundary conditions\n",
    "def boundary_0_0(x, on_boundary):\n",
    "    tol = 1E-9\n",
    "    return  (np.abs(x[0]-eg.dof_min[0]) < tol) and \\\n",
    "            (np.abs(x[1]-eg.dof_min[1]) < tol) and \\\n",
    "            (np.abs(x[2]-eg.dof_min[2]) < tol)\n",
    "\n",
    "def boundary_1_0(x, on_boundary):\n",
    "    tol = 1E-9\n",
    "    return  (np.abs(x[0]-eg.dof_max[0]) < tol) and \\\n",
    "            (np.abs(x[1]-eg.dof_min[1]) < tol) and \\\n",
    "            (np.abs(x[2]-eg.dof_min[2]) < tol)    \n",
    "\n",
    "def boundary_0_1(x, on_boundary):\n",
    "    tol = 1E-9\n",
    "    return  (np.abs(x[0]-eg.dof_min[0]) < tol) and \\\n",
    "            (np.abs(x[1]-eg.dof_min[1]) < tol) and \\\n",
    "            (np.abs(x[2]-eg.dof_max[2]) < tol)    \n",
    "\n",
    "def boundary_lower(x, on_boundary):\n",
    "    tol = 1E-9\n",
    "    return (np.abs(x[1]-eg.dof_min[1]) < tol)\n",
    "\n",
    "def boundary_upper(x, on_boundary):\n",
    "    tol = 1E-9\n",
    "    return (np.abs(x[1]-eg.dof_max[1]) < tol)\n",
    "\n",
    "bc1  = DirichletBC(eg.V, Constant((0, 0, 0)), boundary_0_0, method=\"pointwise\")\n",
    "bc2a = DirichletBC(eg.V.sub(1), Constant(0), boundary_lower)\n",
    "bc2b = DirichletBC(eg.V.sub(2), Constant(0), boundary_1_0, method=\"pointwise\")\n",
    "bc4  = DirichletBC(eg.V.sub(1), Constant(0.00405), boundary_upper)\n",
    "eg.applyBC( [bc1, bc2a, bc2b, bc4] )"
   ]
  },
  {
   "cell_type": "markdown",
   "metadata": {},
   "source": [
    "### Instantiate solution procedures for both equilibrium & incompatibility problems"
   ]
  },
  {
   "cell_type": "code",
   "execution_count": 4,
   "metadata": {},
   "outputs": [
    {
     "name": "stdout",
     "output_type": "stream",
     "text": [
      "<dolfin.cpp.la.VectorSpaceBasis object at 0x7f31c23bcc30>\n",
      "CPU times: user 130 ms, sys: 53.9 ms, total: 184 ms\n",
      "Wall time: 129 ms\n"
     ]
    }
   ],
   "source": [
    "#%%\n",
    "%time eg.elasticity_problem(reuse_PC=True)"
   ]
  },
  {
   "cell_type": "code",
   "execution_count": 5,
   "metadata": {},
   "outputs": [
    {
     "name": "stdout",
     "output_type": "stream",
     "text": [
      "CPU times: user 1.35 s, sys: 524 ms, total: 1.88 s\n",
      "Wall time: 1.25 s\n"
     ]
    }
   ],
   "source": [
    "#%%\n",
    "%time eg.incompatibility_problem(reuse_PC=True)"
   ]
  },
  {
   "cell_type": "markdown",
   "metadata": {},
   "source": [
    "### Iterative loop"
   ]
  },
  {
   "cell_type": "code",
   "execution_count": 6,
   "metadata": {},
   "outputs": [
    {
     "name": "stdout",
     "output_type": "stream",
     "text": [
      "First equilibrium solve\n",
      "0.03317517416246897\n",
      "CPU times: user 12.1 s, sys: 9.08 s, total: 21.2 s\n",
      "Wall time: 10.2 s\n",
      "First incompatibility solve\n",
      "CPU times: user 13.2 s, sys: 22.6 s, total: 35.8 s\n",
      "Wall time: 8.47 s\n",
      "Second equilibrium solve\n",
      "0.025994766523329757\n",
      "CPU times: user 5.31 s, sys: 5.72 s, total: 11 s\n",
      "Wall time: 4.27 s\n",
      "INCOMPATIBILITY\n",
      "CPU times: user 12.5 s, sys: 22.7 s, total: 35.3 s\n",
      "Wall time: 7.65 s\n",
      "EQUILIBRIUM\n",
      "0.024862067427101762\n",
      "CPU times: user 5.38 s, sys: 5.85 s, total: 11.2 s\n",
      "Wall time: 4.22 s\n",
      "INCOMPATIBILITY\n",
      "CPU times: user 12.7 s, sys: 23.1 s, total: 35.8 s\n",
      "Wall time: 7.6 s\n",
      "EQUILIBRIUM\n",
      "0.024203412958051698\n",
      "CPU times: user 5.35 s, sys: 5.94 s, total: 11.3 s\n",
      "Wall time: 4.22 s\n",
      "INCOMPATIBILITY\n",
      "CPU times: user 12.7 s, sys: 23.1 s, total: 35.9 s\n",
      "Wall time: 7.58 s\n",
      "EQUILIBRIUM\n",
      "0.023730811859859303\n",
      "CPU times: user 5.26 s, sys: 6.09 s, total: 11.4 s\n",
      "Wall time: 4.2 s\n",
      "INCOMPATIBILITY\n",
      "CPU times: user 13.1 s, sys: 21.7 s, total: 34.8 s\n",
      "Wall time: 8.13 s\n",
      "EQUILIBRIUM\n",
      "0.023360272703804665\n",
      "CPU times: user 5.29 s, sys: 6.17 s, total: 11.5 s\n",
      "Wall time: 4.29 s\n",
      "INCOMPATIBILITY\n",
      "CPU times: user 12.9 s, sys: 23.1 s, total: 36 s\n",
      "Wall time: 7.69 s\n",
      "EQUILIBRIUM\n",
      "0.023055078610232222\n",
      "CPU times: user 5.34 s, sys: 5.53 s, total: 10.9 s\n",
      "Wall time: 4.47 s\n",
      "INCOMPATIBILITY\n",
      "CPU times: user 12.4 s, sys: 21.6 s, total: 34 s\n",
      "Wall time: 7.82 s\n",
      "EQUILIBRIUM\n",
      "0.02279564279073245\n",
      "CPU times: user 5.56 s, sys: 6.23 s, total: 11.8 s\n",
      "Wall time: 4.34 s\n",
      "INCOMPATIBILITY\n",
      "CPU times: user 12.7 s, sys: 22.6 s, total: 35.3 s\n",
      "Wall time: 7.66 s\n",
      "EQUILIBRIUM\n",
      "0.022570172686201484\n",
      "CPU times: user 5.38 s, sys: 6.2 s, total: 11.6 s\n",
      "Wall time: 4.32 s\n",
      "INCOMPATIBILITY\n",
      "CPU times: user 12.9 s, sys: 22.4 s, total: 35.2 s\n",
      "Wall time: 7.92 s\n",
      "EQUILIBRIUM\n",
      "0.02237096658160603\n",
      "CPU times: user 5.32 s, sys: 5.94 s, total: 11.3 s\n",
      "Wall time: 4.19 s\n",
      "INCOMPATIBILITY\n",
      "CPU times: user 12.6 s, sys: 23.3 s, total: 35.9 s\n",
      "Wall time: 7.81 s\n",
      "EQUILIBRIUM\n",
      "0.02219269265922088\n",
      "CPU times: user 5.48 s, sys: 5.84 s, total: 11.3 s\n",
      "Wall time: 4.28 s\n",
      "INCOMPATIBILITY\n",
      "CPU times: user 12.9 s, sys: 22.3 s, total: 35.3 s\n",
      "Wall time: 7.78 s\n",
      "EQUILIBRIUM\n",
      "0.022031495018097213\n",
      "CPU times: user 5.39 s, sys: 5.9 s, total: 11.3 s\n",
      "Wall time: 4.22 s\n",
      "INCOMPATIBILITY\n",
      "CPU times: user 12.8 s, sys: 23 s, total: 35.8 s\n",
      "Wall time: 7.69 s\n",
      "EQUILIBRIUM\n",
      "0.021884489101377712\n",
      "CPU times: user 5.28 s, sys: 6.06 s, total: 11.3 s\n",
      "Wall time: 4.27 s\n",
      "INCOMPATIBILITY\n",
      "CPU times: user 12.6 s, sys: 21.9 s, total: 34.5 s\n",
      "Wall time: 7.85 s\n",
      "EQUILIBRIUM\n",
      "0.021749458011892733\n",
      "CPU times: user 5.41 s, sys: 6.02 s, total: 11.4 s\n",
      "Wall time: 4.3 s\n",
      "INCOMPATIBILITY\n",
      "CPU times: user 12.9 s, sys: 22.3 s, total: 35.2 s\n",
      "Wall time: 7.7 s\n",
      "EQUILIBRIUM\n",
      "0.02162466012511447\n",
      "CPU times: user 5.45 s, sys: 5.93 s, total: 11.4 s\n",
      "Wall time: 4.25 s\n",
      "INCOMPATIBILITY\n",
      "CPU times: user 12.9 s, sys: 23 s, total: 35.9 s\n",
      "Wall time: 7.74 s\n",
      "EQUILIBRIUM\n",
      "0.021508702005967488\n",
      "CPU times: user 5.53 s, sys: 6.48 s, total: 12 s\n",
      "Wall time: 4.45 s\n",
      "INCOMPATIBILITY\n",
      "CPU times: user 12.6 s, sys: 22.9 s, total: 35.5 s\n",
      "Wall time: 7.79 s\n",
      "EQUILIBRIUM\n",
      "0.021400451496231983\n",
      "CPU times: user 5.39 s, sys: 5.82 s, total: 11.2 s\n",
      "Wall time: 4.34 s\n",
      "INCOMPATIBILITY\n",
      "CPU times: user 12.5 s, sys: 22.9 s, total: 35.4 s\n",
      "Wall time: 7.8 s\n",
      "EQUILIBRIUM\n",
      "0.021298976510287677\n",
      "CPU times: user 5.3 s, sys: 6.03 s, total: 11.3 s\n",
      "Wall time: 4.23 s\n"
     ]
    }
   ],
   "source": [
    "#%%\n",
    "# Convergence is improved if solution from a prior time step exists\n",
    "\n",
    "# if int(step) > 0:\n",
    "#     last_step = '%04d' % (int(step)-1)\n",
    "#     X_filename = output_dir + \"X_\" + last_step + \".xdmf\"\n",
    "#     print('Taking initial X from checkpoint ' + X_filename)\n",
    "#     fFile = XDMFFile(X_filename)\n",
    "# #     fFile.read_checkpoint(ue,\"ue\")\n",
    "#     X_i = Function(eg.TFS)\n",
    "#     fFile.read_checkpoint(X_i,\"X\")\n",
    "#     fFile.close()\n",
    "\n",
    "#     X_init = X_i\n",
    "# else:\n",
    "#     X_init = None\n",
    "\n",
    "# No prior solution is available\n",
    "X_init = None\n",
    "\n",
    "\n",
    "print('First equilibrium solve')\n",
    "%time rsd = eg.solve_elas(x_0)\n",
    "\n",
    "# save the strain from the original problem for development\n",
    "eg.ref_strn = np.copy(eg.sim_strn)\n",
    "eg.ref_avg = np.copy(eg.sim_avg)\n",
    "\n",
    "### Development: will want to develop strain diff in routine contained in class ###\n",
    "\n",
    "for n in range(3):\n",
    "    cell_num_list = list((3*eg.cell_num)+n)\n",
    "    eg.strain_diff_1.vector()[cell_num_list] = \\\n",
    "        eg.exp_strn[eg.subdomain_num,n]\n",
    "    eg.strain_diff_2.vector()[cell_num_list] = \\\n",
    "        eg.exp_strn[eg.subdomain_num,3+n]\n",
    "    eg.strain_diff_3.vector()[cell_num_list] = \\\n",
    "        eg.exp_strn[eg.subdomain_num,6+n]\n",
    "\n",
    "if X_init:\n",
    "    eg.X = X_init\n",
    "else:\n",
    "    print('First incompatibility solve')\n",
    "    %time eg.X = eg.incompatibility_solve_cg()\n",
    "\n",
    "e_inc_elas = project( sym(-eg.X), eg.TFS, solver_type=\"cg\", preconditioner_type=\"ilu\")\n",
    "\n",
    "print('Second equilibrium solve')\n",
    "%time res = eg.solve_elas(x_0,E_p=e_inc_elas)\n",
    "\n",
    "# Cell to develop average of the latest simulation strain\n",
    "s_avg = np.zeros((eg.grains.array().max(),9))\n",
    "s_check = np.zeros((eg.grains.array().max(),9))\n",
    "\n",
    "# Iterative loop \n",
    "last_res = 1e6\n",
    "for nn in range(24):\n",
    "\n",
    "    for grain_no in range(eg.grains.array().max()):\n",
    "        # Grain numbering is 1 index origin\n",
    "        cell_subset = eg.grains.array()==(grain_no+1)\n",
    "        if np.any(cell_subset):\n",
    "            s_avg[grain_no,:] = np.average(eg.sim_strn[cell_subset,:],\n",
    "                                         axis=0,weights=eg.dVol[cell_subset])\n",
    "        \n",
    "    # Set up the potential for the curl problem\n",
    "    # sim_avg has the volume-weighted average.  Develop a scaled correction,\n",
    "    # to go in the rhs that has the same grain average as the hedm result\n",
    "\n",
    "    for n in range(3):\n",
    "        cell_num_list = list((3*eg.cell_num)+n)\n",
    "        eg.strain_diff_1.vector()[cell_num_list] = \\\n",
    "            eg.exp_strn[eg.subdomain_num,n] + \\\n",
    "            (eg.sim_strn[eg.cell_num,n]-s_avg[eg.subdomain_num,n])\n",
    "        eg.strain_diff_2.vector()[cell_num_list] = \\\n",
    "            eg.exp_strn[eg.subdomain_num,3+n] + \\\n",
    "            (eg.sim_strn[eg.cell_num,3+n]-s_avg[eg.subdomain_num,3+n])                  \n",
    "        eg.strain_diff_3.vector()[cell_num_list] = \\\n",
    "            eg.exp_strn[eg.subdomain_num,6+n] + \\\n",
    "            (eg.sim_strn[eg.cell_num,6+n]-s_avg[eg.subdomain_num,6+n])            \n",
    "\n",
    "    print('INCOMPATIBILITY')\n",
    "    %time eg.X = eg.incompatibility_solve_cg()\n",
    "\n",
    "#     print('PROJECT')\n",
    "#     %time e_inc_elas = project( sym(-eg.X), eg.TFS, solver_type=\"cg\", preconditioner_type=\"ilu\")\n",
    "    \n",
    "    print('EQUILIBRIUM')\n",
    "#     %time res = eg.solve_elas(x_0,E_p=e_inc_elas)\n",
    "    # eg.X is symmetrized in forming RHS\n",
    "    %time res = eg.solve_elas(x_0,E_p=-eg.X)\n",
    "    \n",
    "    if ( ((np.abs(res-last_res)/res) < 0.005) and (res<last_res) ):\n",
    "        break\n",
    "\n",
    "    last_res = res  \n",
    "\n",
    "# To be deleted\n",
    "# X_np = np.reshape(eg.X.vector().get_local(),(len(eg.grains.array()),9))"
   ]
  },
  {
   "cell_type": "code",
   "execution_count": 7,
   "metadata": {},
   "outputs": [],
   "source": [
    "#%%\n",
    "# Write out compatible and incompatible distortions\n",
    "\n",
    "fFile = XDMFFile(output_dir + \"ue_\" + step + \".xdmf\")\n",
    "fFile.write_checkpoint (eg.ue,\"ue\")\n",
    "fFile.close()\n",
    "\n",
    "fFile = XDMFFile(output_dir + \"X_\" + step + \".xdmf\")\n",
    "fFile.write_checkpoint(eg.X,\"X\")\n",
    "fFile.close()"
   ]
  },
  {
   "cell_type": "markdown",
   "metadata": {},
   "source": [
    "### Comparison of extension strain with & w/o incompatibility"
   ]
  },
  {
   "cell_type": "code",
   "execution_count": 8,
   "metadata": {},
   "outputs": [
    {
     "data": {
      "text/plain": [
       "([<matplotlib.axis.XTick at 0x7f3207544a90>,\n",
       "  <matplotlib.axis.XTick at 0x7f3207544370>,\n",
       "  <matplotlib.axis.XTick at 0x7f3207ca0af0>,\n",
       "  <matplotlib.axis.XTick at 0x7f3207511040>],\n",
       " [Text(0, 0, ''), Text(0, 0, ''), Text(0, 0, ''), Text(0, 0, '')])"
      ]
     },
     "execution_count": 8,
     "metadata": {},
     "output_type": "execute_result"
    },
    {
     "data": {
      "image/png": "[encoded data removed]",
      "text/plain": [
       "<Figure size 432x288 with 1 Axes>"
      ]
     },
     "metadata": {
      "needs_background": "light"
     },
     "output_type": "display_data"
    }
   ],
   "source": [
    "# before\n",
    "idx = 4\n",
    "before = eg.ref_avg[:,idx]-eg.exp_strn[:,idx]\n",
    "#before = np.linalg.norm(sim_avg-exp_strn,axis=1)\n",
    "before = before[~np.isnan(before)]\n",
    "after = eg.sim_avg[:,idx]-eg.exp_strn[:,idx]\n",
    "# after = np.linalg.norm(sim_avg_cor-exp_strn,axis=1)\n",
    "after = after[~np.isnan(after)]\n",
    "\n",
    "bins = np.linspace(-0.002, 0.002, 40)\n",
    "plt.hist(before, bins, alpha=0.5, label='sim')\n",
    "plt.hist(after, bins, alpha=0.5, label='cor')\n",
    "plt.legend(loc='upper right')\n",
    "plt.xticks(np.arange(-0.002, 0.002, step=0.001))"
   ]
  }
 ],
 "metadata": {
  "kernelspec": {
   "display_name": "Python 3",
   "language": "python",
   "name": "python3"
  },
  "language_info": {
   "codemirror_mode": {
    "name": "ipython",
    "version": 3
   },
   "file_extension": ".py",
   "mimetype": "text/x-python",
   "name": "python",
   "nbconvert_exporter": "python",
   "pygments_lexer": "ipython3",
   "version": "3.7.4"
  }
 },
 "nbformat": 4,
 "nbformat_minor": 4
}
