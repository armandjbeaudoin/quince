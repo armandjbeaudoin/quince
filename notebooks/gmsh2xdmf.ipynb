{
 "cells": [
  {
   "cell_type": "markdown",
   "id": "54153d03",
   "metadata": {},
   "source": [
    "# Utility to convert gmsh .msh to .xdmf"
   ]
  },
  {
   "cell_type": "code",
   "execution_count": 1,
   "id": "36b04591",
   "metadata": {},
   "outputs": [],
   "source": [
    "from mpi4py import MPI\n",
    "from dolfinx.io import gmshio\n",
    "from dolfinx import io"
   ]
  },
  {
   "cell_type": "code",
   "execution_count": 2,
   "id": "0608d6a0",
   "metadata": {},
   "outputs": [],
   "source": [
    "mesh_file_name = '../mesh/creep_0020'"
   ]
  },
  {
   "cell_type": "code",
   "execution_count": 3,
   "id": "ca561d3f",
   "metadata": {},
   "outputs": [
    {
     "name": "stdout",
     "output_type": "stream",
     "text": [
      "Info    : Reading '../mesh/creep_0020.msh'...\n",
      "Info    : 34331 nodes\n",
      "Info    : 269961 elements\n",
      "Info    : Done reading '../mesh/creep_0020.msh'                            \n"
     ]
    }
   ],
   "source": [
    "# Read mesh from gmsh .msh file, using gmshio\n",
    "\n",
    "domain, cell_tags, facet_tags = gmshio.read_from_msh(mesh_file_name + '.msh', MPI.COMM_WORLD, 0, gdim=3)"
   ]
  },
  {
   "cell_type": "code",
   "execution_count": 4,
   "id": "06de1cf2",
   "metadata": {},
   "outputs": [
    {
     "name": "stdout",
     "output_type": "stream",
     "text": [
      "domain (mesh) name: mesh  cell_tags name: Cell tags\n"
     ]
    }
   ],
   "source": [
    "print( 'domain (mesh) name:', domain.name, ' cell_tags name:', cell_tags.name )"
   ]
  },
  {
   "cell_type": "code",
   "execution_count": 5,
   "id": "1f886f25",
   "metadata": {},
   "outputs": [],
   "source": [
    "fname = mesh_file_name + '.xdmf'\n",
    "\n",
    "f = io.XDMFFile(MPI.COMM_WORLD, fname, \"w\")\n",
    "f.write_mesh(domain)\n",
    "f.write_meshtags(cell_tags)\n",
    "f.close()"
   ]
  }
 ],
 "metadata": {
  "kernelspec": {
   "display_name": "Python 3 (ipykernel)",
   "language": "python",
   "name": "python3"
  },
  "language_info": {
   "codemirror_mode": {
    "name": "ipython",
    "version": 3
   },
   "file_extension": ".py",
   "mimetype": "text/x-python",
   "name": "python",
   "nbconvert_exporter": "python",
   "pygments_lexer": "ipython3",
   "version": "3.10.6"
  }
 },
 "nbformat": 4,
 "nbformat_minor": 5
}
