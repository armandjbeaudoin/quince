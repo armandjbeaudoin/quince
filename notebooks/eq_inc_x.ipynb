{
 "cells": [
  {
   "cell_type": "markdown",
   "id": "76fcd527",
   "metadata": {},
   "source": [
    "# Introduce incompatible deformation from HEDM into elasticity calculation"
   ]
  },
  {
   "cell_type": "code",
   "execution_count": null,
   "id": "ef4b3a3c",
   "metadata": {},
   "outputs": [],
   "source": [
    "# Input files:\n",
    "\n",
    "mesh_file      = \"//home/abeaudoi/sw/git_repos/quince/mesh/creep_0020.msh\"\n",
    "rotations_file = \"/home/abeaudoi/sw/git_repos/quince/data/rotations_0020.dat\"\n",
    "strains_file   = \"/home/abeaudoi/sw/git_repos/quince/data/strains_0020.dat\"\n",
    "\n",
    "# Directory for compiled forms\n",
    "cache_dir      = \"/home/abeaudoi/sw/git_repos/quince/fenicsx_cache\"\n",
    "\n",
    "y_displacement = 0.00405"
   ]
  },
  {
   "cell_type": "code",
   "execution_count": null,
   "id": "ddcf9afd",
   "metadata": {},
   "outputs": [],
   "source": [
    "# add parent directory to path\n",
    "import copy\n",
    "import os\n",
    "import sys\n",
    "import time\n",
    "\n",
    "module_path = os.path.abspath(os.path.join('..'))\n",
    "if module_path not in sys.path:\n",
    "    sys.path.append(module_path)\n",
    "\n",
    "import numpy as np\n",
    "\n",
    "import src.quincex as qx\n",
    "\n",
    "from petsc4py import PETSc\n",
    "\n",
    "from mpi4py import MPI\n",
    "\n",
    "from dolfinx import fem, io\n",
    "from dolfinx.io import gmshio, VTXWriter\n",
    "from dolfinx import mesh as msh\n",
    "\n",
    "import ufl\n",
    "\n",
    "import matplotlib.pyplot as plt"
   ]
  },
  {
   "cell_type": "code",
   "execution_count": null,
   "id": "a8663eb8",
   "metadata": {},
   "outputs": [],
   "source": [
    "# Elasticity properties\n",
    "\n",
    "Crystal_Structure = 'HCP'\n",
    "#Stiffness =  np.array(( 174800.0, 108900.0, 106700.0 ))\n",
    "Stiffness = np.array((162400.0, 180700.0, 46700.0, 92000.0, 69000.0))\n",
    "x_0 = {\"Crystal_Structure\": Crystal_Structure, \"Stiffness\": Stiffness}\n",
    "\n",
    "estf = qx.Chcp(x_0['Stiffness'][0],\n",
    "               x_0['Stiffness'][1],\n",
    "               x_0['Stiffness'][2],\n",
    "               x_0['Stiffness'][3],\n",
    "               x_0['Stiffness'][4] )"
   ]
  },
  {
   "cell_type": "code",
   "execution_count": null,
   "id": "527e7492",
   "metadata": {},
   "outputs": [],
   "source": [
    "# Find rank of this process\n",
    "comm = MPI.COMM_WORLD\n",
    "rank = comm.Get_rank()"
   ]
  },
  {
   "cell_type": "code",
   "execution_count": null,
   "id": "8ad324d0",
   "metadata": {},
   "outputs": [],
   "source": [
    "# Read mesh from gmsh .msh file, using gmshio\n",
    "\n",
    "domain, cell_tags, facet_tags = gmshio.read_from_msh(mesh_file, MPI.COMM_WORLD, 0, gdim=3)\n",
    "\n",
    "# Create facet to cell connectivity required to determine boundary facets\n",
    "tdim = domain.topology.dim\n",
    "fdim = tdim - 1\n",
    "domain.topology.create_connectivity(fdim, tdim)\n",
    "boundary_facets = msh.exterior_facet_indices(domain.topology)"
   ]
  },
  {
   "cell_type": "code",
   "execution_count": null,
   "id": "40765ad9",
   "metadata": {},
   "outputs": [],
   "source": [
    "dof_min, dof_max =  np.zeros((3)), np.zeros((3))\n",
    "minVal = np.zeros((1))\n",
    "for i in range( domain.geometry.dim):\n",
    "    dof_min[i] = domain.geometry.x[:, i].min()\n",
    "    dof_max[i] = domain.geometry.x[:, i].max()\n",
    "\n",
    "comm.Barrier()\n",
    "comm.Allreduce(MPI.IN_PLACE, dof_min, op=MPI.MIN)\n",
    "comm.Allreduce(MPI.IN_PLACE, dof_max, op=MPI.MAX)\n",
    "comm.Barrier()\n",
    "        \n",
    "print(rank,np.min(domain.geometry.x,axis=0),dof_min)\n",
    "print(rank,np.max(domain.geometry.x,axis=0),dof_max,flush=True)\n",
    "\n",
    "qx.boundary_min_max(dof_min,dof_max)"
   ]
  },
  {
   "cell_type": "code",
   "execution_count": null,
   "id": "c25e7e71",
   "metadata": {},
   "outputs": [],
   "source": [
    "n_grains = cell_tags.values.max()"
   ]
  },
  {
   "cell_type": "code",
   "execution_count": null,
   "id": "8acd2259",
   "metadata": {},
   "outputs": [],
   "source": [
    "#  Get number of grains on each processor\n",
    "print(rank,'before',n_grains)\n",
    "n_grains = comm.allreduce( n_grains, op = MPI.MAX)\n",
    "print(rank,'after',n_grains,flush=True)"
   ]
  },
  {
   "cell_type": "code",
   "execution_count": null,
   "id": "f4e63a1d",
   "metadata": {},
   "outputs": [],
   "source": [
    "T0 = fem.TensorFunctionSpace(domain, ('DG', 0))\n",
    "\n",
    "# Load in rotation file.  Assign rotations to the tensor function \"orient\"\n",
    "# using interpolation with lamda function (following Don Boyce)\n",
    "\n",
    "rots = np.loadtxt(rotations_file)\n",
    "orient = qx.tprop2grains(rots,T0,cell_tags)\n",
    "qx.set_orientation(orient)\n",
    "\n",
    "exp_strn = np.loadtxt(strains_file)\n",
    "exp_strain  = qx.tprop2grains(exp_strn,T0,cell_tags)"
   ]
  },
  {
   "cell_type": "code",
   "execution_count": null,
   "id": "8a9cad7f",
   "metadata": {},
   "outputs": [],
   "source": [
    "# Fields for strain, plastic deformation, and (strain) result from simulation\n",
    "strain_field = fem.Function(T0)\n",
    "\n",
    "V_0 = fem.FunctionSpace(domain, ('DG',0))\n",
    "\n",
    "Up = fem.Function(T0)\n",
    "Up.interpolate(lambda x: np.zeros((9,x.shape[1])))\n",
    "\n",
    "sim_strn = fem.Function(T0)\n",
    "sim_strn.interpolate(lambda x: np.zeros((9,x.shape[1])))"
   ]
  },
  {
   "cell_type": "code",
   "execution_count": null,
   "id": "a64e9ea9",
   "metadata": {},
   "outputs": [],
   "source": [
    "# Develop integration measure for grains\n",
    "dx_grain = []\n",
    "\n",
    "for i in range(n_grains):\n",
    "    dx_grain.append( ufl.Measure(\"dx\", domain=domain, subdomain_data=cell_tags, subdomain_id=(i+1)) )"
   ]
  },
  {
   "cell_type": "code",
   "execution_count": null,
   "id": "8ce64a4e",
   "metadata": {},
   "outputs": [],
   "source": [
    "# Expression to handle single component of strain tensor\n",
    "\n",
    "eij = fem.Function(V_0)\n",
    "eij.interpolate(lambda x: np.zeros((x.shape[1])))\n",
    "\n",
    "eij_expr = []\n",
    "\n",
    "for ii in range(3):\n",
    "    for jj in range(3):\n",
    "        eij_expr.append( fem.Expression(sim_strn[ii,jj],\n",
    "                                        V_0.element.interpolation_points()) )"
   ]
  },
  {
   "cell_type": "code",
   "execution_count": null,
   "id": "66750352",
   "metadata": {},
   "outputs": [],
   "source": [
    "# Pre-compile all of the forms for averaging grain values (this takes a while)\n",
    "\n",
    "# jit_parameters = {\"cffi_extra_compile_args\": [\"-Ofast\", \"-march=native\"], \n",
    "#                   \"cache_dir\": cache_dir, \"cffi_libraries\": [\"m\"]}\n",
    "\n",
    "jit_parameters = {\"cffi_extra_compile_args\": [\"-O2\"], \n",
    "                  \"cache_dir\": cache_dir, \"cffi_libraries\": [\"m\"]}\n",
    "\n",
    "grain_forms_compiled = []\n",
    "start_time = time.process_time()\n",
    "for i in range(n_grains):\n",
    "    f = []\n",
    "    if rank==0 and (i%100)==0:\n",
    "        print(i,flush=True)\n",
    "\n",
    "    grain_forms_compiled.append( fem.form(eij*dx_grain[i], jit_params=jit_parameters) )\n",
    "            \n",
    "#             sim_avg[i,(3*ii+jj)] = comm.allreduce( \\\n",
    "#                 fem.assemble_scalar(fem.form(sim_strn[ii,jj]*dx_grain[i])) / vol_grain[i],\n",
    "#                 op = MPI.SUM)                \n",
    "            \n",
    "print(rank,'form compilation',time.process_time() - start_time)"
   ]
  },
  {
   "cell_type": "code",
   "execution_count": null,
   "id": "3a45b75c",
   "metadata": {},
   "outputs": [],
   "source": [
    "vol_grain = np.zeros((n_grains))\n",
    "v_total = 0.0\n",
    "\n",
    "eij.interpolate(lambda x: np.ones((x.shape[1])))\n",
    "\n",
    "for i in range(n_grains):\n",
    "    vol_grain[i] = comm.allreduce( fem.assemble_scalar(grain_forms_compiled[i]), op = MPI.SUM)\n",
    "    v_total += vol_grain[i]\n",
    "#     if rank==0:\n",
    "#         print(i,vol_grain[i],flush=True)\n",
    "    \n",
    "if rank==0:\n",
    "    print('Volume is',v_total)"
   ]
  },
  {
   "cell_type": "code",
   "execution_count": null,
   "id": "5bc45704",
   "metadata": {},
   "outputs": [],
   "source": [
    "sim_avg = np.zeros((n_grains,9))\n",
    "\n",
    "start_time = time.process_time()\n",
    "\n",
    "for j in range(9):\n",
    "#     if rank==0:\n",
    "#         print(j,flush=True) \n",
    "        \n",
    "    eij.interpolate(eij_expr[j])\n",
    "    \n",
    "    for i in range(n_grains):\n",
    "\n",
    "        sim_avg[i,j] = comm.allreduce( \\\n",
    "            fem.assemble_scalar( grain_forms_compiled[i]) / vol_grain[i],\n",
    "            op = MPI.SUM)\n",
    "            \n",
    "print(rank,'Form Execution',time.process_time() - start_time)"
   ]
  },
  {
   "cell_type": "code",
   "execution_count": null,
   "id": "d139198d",
   "metadata": {},
   "outputs": [],
   "source": [
    "# Develop reference solution, with no experimental correction\n",
    "\n",
    "sim_avg = np.zeros((n_grains,9))\n",
    "\n",
    "Up.interpolate(lambda x: np.zeros((9,x.shape[1])))\n",
    "\n",
    "ela = qx.Elasticity(domain,Up=Up)\n",
    "ela.solve_elasticity(y_displacement)\n",
    "\n",
    "sim_strn_expr = fem.Expression( ufl.sym(ufl.grad(ela.uh) - Up), T0.element.interpolation_points())\n",
    "\n",
    "sim_strn.interpolate(sim_strn_expr)\n",
    "\n",
    "for j in range(9):\n",
    "\n",
    "    eij.interpolate(eij_expr[j])\n",
    "\n",
    "    for i in range(n_grains):\n",
    "        sim_avg[i,j] = comm.allreduce( \\\n",
    "            fem.assemble_scalar( grain_forms_compiled[i]) / vol_grain[i], op = MPI.SUM)\n",
    "\n",
    "if (rank==0):\n",
    "    print('Experimental strain error',np.linalg.norm(sim_avg[:] - exp_strn[:]))\n",
    "    print('Average y displacement is', np.mean(sim_avg[:,4]), flush=True)\n",
    "\n",
    "ref_avg = copy.deepcopy(sim_avg)"
   ]
  },
  {
   "cell_type": "code",
   "execution_count": null,
   "id": "c8f010fe",
   "metadata": {},
   "outputs": [],
   "source": [
    "# Loop\n",
    "\n",
    "# Initialize potential for incompatibility with piecewise constant experimental strain field\n",
    "strain_field.interpolate(exp_strain)\n",
    "inc = qx.Incompatibility(domain,strain_field)\n",
    "Up_expr = fem.Expression( -inc.X, T0.element.interpolation_points() )\n",
    "\n",
    "for nn in range(16):\n",
    "\n",
    "    # strain_field should be initialized with experimental strain for first iteration\n",
    "    \n",
    "#     inc = qx.Incompatibility(domain)\n",
    "    inc.solve_curl()\n",
    "    # Up_expr = fem.Expression( -inc.X, T0.element.interpolation_points() )\n",
    "    Up.interpolate(Up_expr)\n",
    "    \n",
    "#     ela = qx.Elasticity(domain,use_MUMPS=True)\n",
    "    ela.solve_elasticity(y_displacement)\n",
    "#     sim_strn_expr = fem.Expression( ufl.sym(ufl.grad(ela.uh) - Up), T0.element.interpolation_points())\n",
    "    sim_strn.interpolate(sim_strn_expr)\n",
    "#     project(ufl.sym(ufl.grad(ela.uh) - Up),sim_strn)\n",
    "    \n",
    "    # Develop average strain from elasticity simulation   \n",
    "    for j in range(9):\n",
    "\n",
    "        eij.interpolate(eij_expr[j])\n",
    "\n",
    "        for i in range(n_grains):\n",
    "            sim_avg[i,j] = comm.allreduce( \\\n",
    "                fem.assemble_scalar( grain_forms_compiled[i]) / vol_grain[i], op = MPI.SUM)\n",
    "\n",
    "    if (rank==0):\n",
    "        print(nn,'Experimental strain error',np.linalg.norm(sim_avg[:] - exp_strn[:]))\n",
    "        print('  Average y displacement is', np.mean(sim_avg[:,4]), flush=True)\n",
    "            \n",
    "    s_avg  = qx.tprop2grains(sim_avg,T0,cell_tags)\n",
    "    \n",
    "    # s_avg being re-defined, but not updated in expression????\n",
    "    #if nn==0:\n",
    "    strain_field_expr = fem.Expression( exp_strain + (sim_strn-s_avg), T0.element.interpolation_points() )\n",
    "        \n",
    "    strain_field.interpolate( strain_field_expr )\n",
    "    "
   ]
  },
  {
   "cell_type": "code",
   "execution_count": null,
   "id": "b6d80af4",
   "metadata": {},
   "outputs": [],
   "source": [
    "# idx = 4\n",
    "# before = ref_avg[:,idx]-exp_strn[:,idx]\n",
    "# # #before = np.linalg.norm(sim_avg-exp_strn,axis=1)\n",
    "# before = before[~np.isnan(before)]\n",
    "# after = sim_avg[:,idx]-exp_strn[:,idx]\n",
    "# # after = np.linalg.norm(sim_avg_cor-exp_strn,axis=1)\n",
    "# after = after[~np.isnan(after)]\n",
    "\n",
    "# bins = np.linspace(-0.002, 0.002, 40)\n",
    "# plt.hist(before, bins, alpha=0.5, label='sim')\n",
    "# plt.hist(after, bins, alpha=0.5, label='cor')\n",
    "# plt.legend(loc='upper right')\n",
    "# plt.xticks(np.arange(-0.002, 0.002, step=0.001))"
   ]
  }
 ],
 "metadata": {
  "kernelspec": {
   "display_name": "Python 3 (ipykernel)",
   "language": "python",
   "name": "python3"
  },
  "language_info": {
   "codemirror_mode": {
    "name": "ipython",
    "version": 3
   },
   "file_extension": ".py",
   "mimetype": "text/x-python",
   "name": "python",
   "nbconvert_exporter": "python",
   "pygments_lexer": "ipython3",
   "version": "3.10.6"
  }
 },
 "nbformat": 4,
 "nbformat_minor": 5
}
